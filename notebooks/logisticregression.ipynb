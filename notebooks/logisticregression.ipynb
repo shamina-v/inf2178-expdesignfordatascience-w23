{
  "nbformat": 4,
  "nbformat_minor": 0,
  "metadata": {
    "colab": {
      "provenance": [],
      "authorship_tag": "ABX9TyPVB1J29Nkg7mRNprJDchW1",
      "include_colab_link": true
    },
    "kernelspec": {
      "name": "python3",
      "display_name": "Python 3"
    },
    "language_info": {
      "name": "python"
    }
  },
  "cells": [
    {
      "cell_type": "markdown",
      "metadata": {
        "id": "view-in-github",
        "colab_type": "text"
      },
      "source": [
        "<a href=\"https://colab.research.google.com/github/shionguha/inf2178-expdesignfordatascience-w23/blob/main/logisticregression.ipynb\" target=\"_parent\"><img src=\"https://colab.research.google.com/assets/colab-badge.svg\" alt=\"Open In Colab\"/></a>"
      ]
    },
    {
      "cell_type": "code",
      "execution_count": 1,
      "metadata": {
        "id": "XKH2I-ckeSPA"
      },
      "outputs": [],
      "source": [
        "#logistic regression example 1\n",
        "from sklearn.datasets import load_breast_cancer\n",
        "cancer1 = load_breast_cancer()"
      ]
    },
    {
      "cell_type": "code",
      "source": [
        "print(\"Predictors: \", cancer1.feature_names)"
      ],
      "metadata": {
        "colab": {
          "base_uri": "https://localhost:8080/"
        },
        "id": "frsb6v5fs-DR",
        "outputId": "399b0a5c-bb8b-41b2-8765-900ec204c8d2"
      },
      "execution_count": 2,
      "outputs": [
        {
          "output_type": "stream",
          "name": "stdout",
          "text": [
            "Predictors:  ['mean radius' 'mean texture' 'mean perimeter' 'mean area'\n",
            " 'mean smoothness' 'mean compactness' 'mean concavity'\n",
            " 'mean concave points' 'mean symmetry' 'mean fractal dimension'\n",
            " 'radius error' 'texture error' 'perimeter error' 'area error'\n",
            " 'smoothness error' 'compactness error' 'concavity error'\n",
            " 'concave points error' 'symmetry error' 'fractal dimension error'\n",
            " 'worst radius' 'worst texture' 'worst perimeter' 'worst area'\n",
            " 'worst smoothness' 'worst compactness' 'worst concavity'\n",
            " 'worst concave points' 'worst symmetry' 'worst fractal dimension']\n"
          ]
        }
      ]
    },
    {
      "cell_type": "code",
      "source": [
        "print(\"\\nResponse: \", cancer1.target_names)"
      ],
      "metadata": {
        "colab": {
          "base_uri": "https://localhost:8080/"
        },
        "id": "G_DjI2HGtAdv",
        "outputId": "a53d3021-adca-41c9-e360-3c824bdbb07b"
      },
      "execution_count": 3,
      "outputs": [
        {
          "output_type": "stream",
          "name": "stdout",
          "text": [
            "\n",
            "Response:  ['malignant' 'benign']\n"
          ]
        }
      ]
    },
    {
      "cell_type": "code",
      "source": [
        "import pandas as pd\n",
        "\n",
        "cancer = pd.DataFrame(cancer1.data, columns=cancer1.feature_names)\n",
        "cancer.columns = cancer.columns.str.replace(' ','_')\n",
        "\n",
        "cancer.shape"
      ],
      "metadata": {
        "colab": {
          "base_uri": "https://localhost:8080/"
        },
        "id": "jYhkWtqftDcW",
        "outputId": "7de73083-8a26-49c4-c7ce-5c65a3ba4117"
      },
      "execution_count": 4,
      "outputs": [
        {
          "output_type": "execute_result",
          "data": {
            "text/plain": [
              "(569, 30)"
            ]
          },
          "metadata": {},
          "execution_count": 4
        }
      ]
    },
    {
      "cell_type": "code",
      "source": [
        "# Add a column for the response variable: malignant or benign\n",
        "cancer['Target'] = cancer1.target"
      ],
      "metadata": {
        "id": "4giF9eEytIF1"
      },
      "execution_count": 5,
      "outputs": []
    },
    {
      "cell_type": "code",
      "source": [
        "# Take a look at the DataFrame again to double check we added the column properly\n",
        "cancer.shape"
      ],
      "metadata": {
        "colab": {
          "base_uri": "https://localhost:8080/"
        },
        "id": "dyKuqQFItLtA",
        "outputId": "61023c16-e10f-4bfa-d6ed-2564daa8d373"
      },
      "execution_count": 6,
      "outputs": [
        {
          "output_type": "execute_result",
          "data": {
            "text/plain": [
              "(569, 31)"
            ]
          },
          "metadata": {},
          "execution_count": 6
        }
      ]
    },
    {
      "cell_type": "code",
      "source": [
        "from sklearn.model_selection import train_test_split\n",
        "\n",
        "# Select the first 10 columns of our DataFrame that we will use as the predictors in our models\n",
        "x = cancer.iloc[:,:10]\n",
        "\n",
        "# Select the response column \n",
        "y = cancer.Target\n",
        "\n",
        "# Split these data into training and testing datasets\n",
        "x_train, x_test, y_train, y_test = train_test_split(x,y, random_state=123)"
      ],
      "metadata": {
        "id": "3kbGuOodtOpf"
      },
      "execution_count": 7,
      "outputs": []
    },
    {
      "cell_type": "code",
      "source": [
        "#building the model with statsmodels\n",
        "\n",
        "\n",
        "import statsmodels.formula.api as smf\n",
        "import pandas as pd\n",
        "\n",
        "# Create the formula string \n",
        "all_columns = ' + '.join(cancer.columns[:10])\n",
        "formula = \"Target ~ \" + all_columns \n",
        "print(\"Formula: \", formula, \"\\n\")\n",
        "\n",
        "# Put the training predictors and responses into one DataFrame to be input into the model\n",
        "## Formula:  Target ~ mean_radius + mean_texture + mean_perimeter + mean_area + mean_smoothness + mean_compactness + mean_concavity + mean_concave_points + mean_symmetry + mean_fractal_dimension\n",
        "\n",
        "trainingdata = pd.concat([x_train,y_train], axis = 1)\n",
        "\n",
        "# Build the model\n",
        "log_reg_1 = smf.logit(formula, data=trainingdata).fit()"
      ],
      "metadata": {
        "colab": {
          "base_uri": "https://localhost:8080/"
        },
        "id": "vJAza9hitcz3",
        "outputId": "5f66a1c2-e98a-483c-8b13-df59e352ac78"
      },
      "execution_count": 8,
      "outputs": [
        {
          "output_type": "stream",
          "name": "stdout",
          "text": [
            "Formula:  Target ~ mean_radius + mean_texture + mean_perimeter + mean_area + mean_smoothness + mean_compactness + mean_concavity + mean_concave_points + mean_symmetry + mean_fractal_dimension \n",
            "\n",
            "Optimization terminated successfully.\n",
            "         Current function value: 0.131593\n",
            "         Iterations 11\n"
          ]
        }
      ]
    },
    {
      "cell_type": "code",
      "source": [
        "log_reg_1.summary()"
      ],
      "metadata": {
        "colab": {
          "base_uri": "https://localhost:8080/",
          "height": 531
        },
        "id": "CXQktKD1tn-n",
        "outputId": "090d4c23-a9b7-48bd-d9f3-14b226f6f31e"
      },
      "execution_count": 9,
      "outputs": [
        {
          "output_type": "execute_result",
          "data": {
            "text/plain": [
              "<class 'statsmodels.iolib.summary.Summary'>\n",
              "\"\"\"\n",
              "                           Logit Regression Results                           \n",
              "==============================================================================\n",
              "Dep. Variable:                 Target   No. Observations:                  426\n",
              "Model:                          Logit   Df Residuals:                      415\n",
              "Method:                           MLE   Df Model:                           10\n",
              "Date:                Mon, 20 Mar 2023   Pseudo R-squ.:                  0.8004\n",
              "Time:                        15:50:07   Log-Likelihood:                -56.059\n",
              "converged:                       True   LL-Null:                       -280.92\n",
              "Covariance Type:            nonrobust   LLR p-value:                 2.402e-90\n",
              "==========================================================================================\n",
              "                             coef    std err          z      P>|z|      [0.025      0.975]\n",
              "------------------------------------------------------------------------------------------\n",
              "Intercept                 17.1132     15.041      1.138      0.255     -12.368      46.594\n",
              "mean_radius               -0.1786      4.151     -0.043      0.966      -8.315       7.958\n",
              "mean_texture              -0.4333      0.079     -5.479      0.000      -0.588      -0.278\n",
              "mean_perimeter             0.2724      0.569      0.479      0.632      -0.842       1.387\n",
              "mean_area                 -0.0301      0.019     -1.617      0.106      -0.067       0.006\n",
              "mean_smoothness          -90.0668     38.119     -2.363      0.018    -164.778     -15.356\n",
              "mean_compactness          -9.5962     23.305     -0.412      0.681     -55.273      36.080\n",
              "mean_concavity           -11.5117      9.451     -1.218      0.223     -30.035       7.011\n",
              "mean_concave_points      -47.8953     32.398     -1.478      0.139    -111.394      15.603\n",
              "mean_symmetry            -23.1823     12.730     -1.821      0.069     -48.133       1.768\n",
              "mean_fractal_dimension    91.5592     98.116      0.933      0.351    -100.745     283.863\n",
              "==========================================================================================\n",
              "\n",
              "Possibly complete quasi-separation: A fraction 0.20 of observations can be\n",
              "perfectly predicted. This might indicate that there is complete\n",
              "quasi-separation. In this case some parameters will not be identified.\n",
              "\"\"\""
            ],
            "text/html": [
              "<table class=\"simpletable\">\n",
              "<caption>Logit Regression Results</caption>\n",
              "<tr>\n",
              "  <th>Dep. Variable:</th>        <td>Target</td>      <th>  No. Observations:  </th>  <td>   426</td>  \n",
              "</tr>\n",
              "<tr>\n",
              "  <th>Model:</th>                 <td>Logit</td>      <th>  Df Residuals:      </th>  <td>   415</td>  \n",
              "</tr>\n",
              "<tr>\n",
              "  <th>Method:</th>                 <td>MLE</td>       <th>  Df Model:          </th>  <td>    10</td>  \n",
              "</tr>\n",
              "<tr>\n",
              "  <th>Date:</th>            <td>Mon, 20 Mar 2023</td> <th>  Pseudo R-squ.:     </th>  <td>0.8004</td>  \n",
              "</tr>\n",
              "<tr>\n",
              "  <th>Time:</th>                <td>15:50:07</td>     <th>  Log-Likelihood:    </th> <td> -56.059</td> \n",
              "</tr>\n",
              "<tr>\n",
              "  <th>converged:</th>             <td>True</td>       <th>  LL-Null:           </th> <td> -280.92</td> \n",
              "</tr>\n",
              "<tr>\n",
              "  <th>Covariance Type:</th>     <td>nonrobust</td>    <th>  LLR p-value:       </th> <td>2.402e-90</td>\n",
              "</tr>\n",
              "</table>\n",
              "<table class=\"simpletable\">\n",
              "<tr>\n",
              "             <td></td>               <th>coef</th>     <th>std err</th>      <th>z</th>      <th>P>|z|</th>  <th>[0.025</th>    <th>0.975]</th>  \n",
              "</tr>\n",
              "<tr>\n",
              "  <th>Intercept</th>              <td>   17.1132</td> <td>   15.041</td> <td>    1.138</td> <td> 0.255</td> <td>  -12.368</td> <td>   46.594</td>\n",
              "</tr>\n",
              "<tr>\n",
              "  <th>mean_radius</th>            <td>   -0.1786</td> <td>    4.151</td> <td>   -0.043</td> <td> 0.966</td> <td>   -8.315</td> <td>    7.958</td>\n",
              "</tr>\n",
              "<tr>\n",
              "  <th>mean_texture</th>           <td>   -0.4333</td> <td>    0.079</td> <td>   -5.479</td> <td> 0.000</td> <td>   -0.588</td> <td>   -0.278</td>\n",
              "</tr>\n",
              "<tr>\n",
              "  <th>mean_perimeter</th>         <td>    0.2724</td> <td>    0.569</td> <td>    0.479</td> <td> 0.632</td> <td>   -0.842</td> <td>    1.387</td>\n",
              "</tr>\n",
              "<tr>\n",
              "  <th>mean_area</th>              <td>   -0.0301</td> <td>    0.019</td> <td>   -1.617</td> <td> 0.106</td> <td>   -0.067</td> <td>    0.006</td>\n",
              "</tr>\n",
              "<tr>\n",
              "  <th>mean_smoothness</th>        <td>  -90.0668</td> <td>   38.119</td> <td>   -2.363</td> <td> 0.018</td> <td> -164.778</td> <td>  -15.356</td>\n",
              "</tr>\n",
              "<tr>\n",
              "  <th>mean_compactness</th>       <td>   -9.5962</td> <td>   23.305</td> <td>   -0.412</td> <td> 0.681</td> <td>  -55.273</td> <td>   36.080</td>\n",
              "</tr>\n",
              "<tr>\n",
              "  <th>mean_concavity</th>         <td>  -11.5117</td> <td>    9.451</td> <td>   -1.218</td> <td> 0.223</td> <td>  -30.035</td> <td>    7.011</td>\n",
              "</tr>\n",
              "<tr>\n",
              "  <th>mean_concave_points</th>    <td>  -47.8953</td> <td>   32.398</td> <td>   -1.478</td> <td> 0.139</td> <td> -111.394</td> <td>   15.603</td>\n",
              "</tr>\n",
              "<tr>\n",
              "  <th>mean_symmetry</th>          <td>  -23.1823</td> <td>   12.730</td> <td>   -1.821</td> <td> 0.069</td> <td>  -48.133</td> <td>    1.768</td>\n",
              "</tr>\n",
              "<tr>\n",
              "  <th>mean_fractal_dimension</th> <td>   91.5592</td> <td>   98.116</td> <td>    0.933</td> <td> 0.351</td> <td> -100.745</td> <td>  283.863</td>\n",
              "</tr>\n",
              "</table><br/><br/>Possibly complete quasi-separation: A fraction 0.20 of observations can be<br/>perfectly predicted. This might indicate that there is complete<br/>quasi-separation. In this case some parameters will not be identified."
            ]
          },
          "metadata": {},
          "execution_count": 9
        }
      ]
    },
    {
      "cell_type": "code",
      "source": [
        "from sklearn.metrics import confusion_matrix, accuracy_score\n",
        "# Predict responses \n",
        "pred_1 = log_reg_1.predict(x_test)\n",
        "# round() rounds to nearest integer;\n",
        "# 0.5 rounds to 0; 0.501 rounds to 1\n",
        "prediction_1 = list(map(round, pred_1))"
      ],
      "metadata": {
        "id": "h0on5lf9ttZQ"
      },
      "execution_count": 13,
      "outputs": []
    },
    {
      "cell_type": "code",
      "source": [
        "# Accuracy score\n",
        "print('\\nTest accuracy = ', accuracy_score(y_test, prediction_1))"
      ],
      "metadata": {
        "colab": {
          "base_uri": "https://localhost:8080/"
        },
        "id": "NvBpg1PsuaNe",
        "outputId": "cea3f8fe-1954-4a1c-8181-e6648840e378"
      },
      "execution_count": 14,
      "outputs": [
        {
          "output_type": "stream",
          "name": "stdout",
          "text": [
            "\n",
            "Test accuracy =  0.958041958041958\n"
          ]
        }
      ]
    },
    {
      "cell_type": "code",
      "source": [
        "# Confusion matrix\n",
        "## \n",
        "## Test accuracy =  0.958041958041958\n",
        "\n",
        "cm = confusion_matrix(y_test, prediction_1) \n",
        "print (\"\\nConfusion Matrix : \\n\", cm) "
      ],
      "metadata": {
        "colab": {
          "base_uri": "https://localhost:8080/"
        },
        "id": "gVJLntXfufBc",
        "outputId": "3088ccb4-6ade-4d4a-acea-3a5aacc7a6c7"
      },
      "execution_count": 15,
      "outputs": [
        {
          "output_type": "stream",
          "name": "stdout",
          "text": [
            "\n",
            "Confusion Matrix : \n",
            " [[49  5]\n",
            " [ 1 88]]\n"
          ]
        }
      ]
    }
  ]
}